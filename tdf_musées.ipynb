{
 "cells": [
  {
   "cell_type": "code",
   "execution_count": 103,
   "id": "88ae205d",
   "metadata": {},
   "outputs": [
    {
     "data": {
      "text/html": [
       "<div>\n",
       "<style scoped>\n",
       "    .dataframe tbody tr th:only-of-type {\n",
       "        vertical-align: middle;\n",
       "    }\n",
       "\n",
       "    .dataframe tbody tr th {\n",
       "        vertical-align: top;\n",
       "    }\n",
       "\n",
       "    .dataframe thead th {\n",
       "        text-align: right;\n",
       "    }\n",
       "</style>\n",
       "<table border=\"1\" class=\"dataframe\">\n",
       "  <thead>\n",
       "    <tr style=\"text-align: right;\">\n",
       "      <th></th>\n",
       "      <th>osm_id</th>\n",
       "      <th>name</th>\n",
       "      <th>number</th>\n",
       "      <th>street</th>\n",
       "      <th>postal_code</th>\n",
       "      <th>city</th>\n",
       "      <th>country</th>\n",
       "      <th>country_code</th>\n",
       "      <th>lat</th>\n",
       "      <th>lon</th>\n",
       "      <th>website</th>\n",
       "      <th>email</th>\n",
       "      <th>phone</th>\n",
       "      <th>fax</th>\n",
       "      <th>tags</th>\n",
       "      <th>description</th>\n",
       "      <th>date_added</th>\n",
       "      <th>wikidata</th>\n",
       "    </tr>\n",
       "  </thead>\n",
       "  <tbody>\n",
       "    <tr>\n",
       "      <th>0</th>\n",
       "      <td>4540234591</td>\n",
       "      <td>3 bis f</td>\n",
       "      <td>109</td>\n",
       "      <td>Avenue du Petit Barthélémy</td>\n",
       "      <td>13617.0</td>\n",
       "      <td>Aix-en-Provence</td>\n",
       "      <td>France</td>\n",
       "      <td>fr</td>\n",
       "      <td>43.521207</td>\n",
       "      <td>5.439875</td>\n",
       "      <td>http://www.3bisf.com</td>\n",
       "      <td>contact@3bisf.com</td>\n",
       "      <td>3.344216e+10</td>\n",
       "      <td>NaN</td>\n",
       "      <td>osm:museum;art:art contemporain</td>\n",
       "      <td>NaN</td>\n",
       "      <td>44116,0076388889</td>\n",
       "      <td>NaN</td>\n",
       "    </tr>\n",
       "  </tbody>\n",
       "</table>\n",
       "</div>"
      ],
      "text/plain": [
       "       osm_id     name number                      street  postal_code  \\\n",
       "0  4540234591  3 bis f    109  Avenue du Petit Barthélémy      13617.0   \n",
       "\n",
       "              city country country_code        lat       lon  \\\n",
       "0  Aix-en-Provence  France           fr  43.521207  5.439875   \n",
       "\n",
       "                website              email         phone  fax  \\\n",
       "0  http://www.3bisf.com  contact@3bisf.com  3.344216e+10  NaN   \n",
       "\n",
       "                              tags description        date_added wikidata  \n",
       "0  osm:museum;art:art contemporain         NaN  44116,0076388889      NaN  "
      ]
     },
     "execution_count": 103,
     "metadata": {},
     "output_type": "execute_result"
    }
   ],
   "source": [
    "import pandas as pd\n",
    "data = pd.read_csv('data.csv', delimiter=\";\", encoding ='latin1')\n",
    "data[0:1]"
   ]
  },
  {
   "cell_type": "code",
   "execution_count": 25,
   "id": "36063717",
   "metadata": {},
   "outputs": [
    {
     "data": {
      "text/plain": [
       "3784"
      ]
     },
     "execution_count": 25,
     "metadata": {},
     "output_type": "execute_result"
    }
   ],
   "source": [
    "# Combien y-a-t-il de musées en France métropolitaine ?\n",
    "len(data)"
   ]
  },
  {
   "cell_type": "code",
   "execution_count": 47,
   "id": "b0f7b08f",
   "metadata": {},
   "outputs": [
    {
     "name": "stdout",
     "output_type": "stream",
     "text": [
      "Paris\n"
     ]
    }
   ],
   "source": [
    "# Dans quelle(s) ville(s) y-a-t-il de plus de musées ?\n",
    "print(data[\"city\"].value_counts().idxmax())"
   ]
  },
  {
   "cell_type": "code",
   "execution_count": 50,
   "id": "6e8f99dd",
   "metadata": {
    "scrolled": true
   },
   "outputs": [
    {
     "name": "stdout",
     "output_type": "stream",
     "text": [
      "1.647930283224401\n"
     ]
    }
   ],
   "source": [
    "# Quel est le nombre moyen de musées par ville ?\n",
    "print(data[\"city\"].value_counts().mean())"
   ]
  },
  {
   "cell_type": "code",
   "execution_count": 51,
   "id": "f9b5c7eb",
   "metadata": {},
   "outputs": [
    {
     "name": "stdout",
     "output_type": "stream",
     "text": [
      "1.0\n"
     ]
    }
   ],
   "source": [
    "# Quel est le nombre médian de musées par ville ?\n",
    "print(data[\"city\"].value_counts().median())"
   ]
  },
  {
   "cell_type": "code",
   "execution_count": 92,
   "id": "e1332fcd",
   "metadata": {},
   "outputs": [
    {
     "name": "stdout",
     "output_type": "stream",
     "text": [
      "osm:museum                                                                    0.575093\n",
      "osm:museum;type:ecomusee                                                      0.102327\n",
      "osm:museum;type:musee technique et industriel                                 0.051296\n",
      "osm:museum;type:musee d'histoire                                              0.034902\n",
      "osm:museum;art:architecture                                                   0.031994\n",
      "                                                                                ...   \n",
      "osm:museum;gender:musee de couple;type:maison d'artiste                       0.000264\n",
      "osm:museum;art:prehistoire;type:musee d'histoire naturelle                    0.000264\n",
      "osm:museum;continent:art asiatique;type:centre d'art                          0.000264\n",
      "osm:museum;type:musee d'artiste;type:musee litteraire;gender:musee d'homme    0.000264\n",
      "osm:museum;gender:musee d'homme;type:musee de beaux-arts                      0.000264\n",
      "Name: tags, Length: 119, dtype: float64\n"
     ]
    }
   ],
   "source": [
    "# Comment sont répartis les musées par type (en pourcentage) ?\n",
    "print(data[\"tags\"].value_counts(normalize=True))"
   ]
  },
  {
   "cell_type": "code",
   "execution_count": 88,
   "id": "c702d939",
   "metadata": {
    "scrolled": true
   },
   "outputs": [
    {
     "name": "stdout",
     "output_type": "stream",
     "text": [
      "Il y a, 57 musées dont le nom commence par \"Château\"\n"
     ]
    }
   ],
   "source": [
    "# Combien y-a-t-il de musées dont le nom commence par \"Château\" ?\n",
    "chateau = data['name']\n",
    "count = 0\n",
    "i = 0\n",
    "while i < len(data):\n",
    "        if chateau[i][0:7] == 'Château':\n",
    "            count += 1\n",
    "        i+=1\n",
    "print('Il y a,', count,'musées dont le nom commence par \"Château\"')"
   ]
  },
  {
   "cell_type": "code",
   "execution_count": 122,
   "id": "28aae202",
   "metadata": {},
   "outputs": [
    {
     "name": "stdout",
     "output_type": "stream",
     "text": [
      "1636\n"
     ]
    }
   ],
   "source": [
    "# Pour combien de musées dispose-t-on de l'adresse du site web ?\n",
    "print(len(data) - data['website'].isna().sum())\n",
    "# count = 0\n",
    "# i = 0\n",
    "# while i < len(data):\n",
    "#         if chateau[i] == NaN: ne fonctionne pas\n",
    "# #             count += 1\n",
    "# #         i+=1\n",
    "# print('Il y a,', count,'musées sans websites renseigné')"
   ]
  },
  {
   "cell_type": "code",
   "execution_count": 138,
   "id": "d078bfe2",
   "metadata": {},
   "outputs": [
    {
     "name": "stdout",
     "output_type": "stream",
     "text": [
      "75\n"
     ]
    }
   ],
   "source": [
    "# Quel département français possède le plus de musées sur son territoire ? \n",
    "dep = []\n",
    "i = 0\n",
    "while i < len(data):\n",
    "    dep.append(data['postal_code'][i].astype(str)[0:2])\n",
    "    i+=1\n",
    "#Ajouter au data la nouvelle colonne de code dep\n",
    "data['num_dep'] = dep\n",
    "print(data[\"num_dep\"].value_counts().idxmax())"
   ]
  },
  {
   "cell_type": "code",
   "execution_count": 139,
   "id": "06d7a8dd",
   "metadata": {},
   "outputs": [
    {
     "name": "stdout",
     "output_type": "stream",
     "text": [
      "98\n"
     ]
    }
   ],
   "source": [
    "# Quel département français possède le moins de musées sur son territoire ?\n",
    "print(data[\"num_dep\"].value_counts().idxmin())"
   ]
  },
  {
   "cell_type": "code",
   "execution_count": 149,
   "id": "e94f4a85",
   "metadata": {},
   "outputs": [
    {
     "name": "stdout",
     "output_type": "stream",
     "text": [
      "4\n"
     ]
    }
   ],
   "source": [
    "# Combien de musées ont \"Napoléon\" dans leur nom ?\n",
    "\n",
    "i = 0 \n",
    "nb_nap = 0\n",
    "nap = \"Napoléon\"\n",
    "while i < len(data):\n",
    "        if nap in data['name'][i]:\n",
    "            nb_nap += 1\n",
    "        i+= 1\n",
    "print(nb_nap)"
   ]
  }
 ],
 "metadata": {
  "kernelspec": {
   "display_name": "Python 3 (ipykernel)",
   "language": "python",
   "name": "python3"
  },
  "language_info": {
   "codemirror_mode": {
    "name": "ipython",
    "version": 3
   },
   "file_extension": ".py",
   "mimetype": "text/x-python",
   "name": "python",
   "nbconvert_exporter": "python",
   "pygments_lexer": "ipython3",
   "version": "3.9.12"
  }
 },
 "nbformat": 4,
 "nbformat_minor": 5
}
